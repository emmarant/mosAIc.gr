{
 "cells": [
  {
   "cell_type": "markdown",
   "metadata": {
    "toc": true
   },
   "source": [
    "<h1>Table of Contents<span class=\"tocSkip\"></span></h1>\n",
    "<div class=\"toc\"><ul class=\"toc-item\"></ul></div>"
   ]
  },
  {
   "cell_type": "markdown",
   "metadata": {},
   "source": [
    "E.R. 24/03/2021\n",
    "\n",
    "Assuming a hierarchical structure of: _train_, _validation_, _test_  **set** directories, each with subdirectories for each assigned **class**\n",
    "- go through all set dirs and class subdirs \n",
    "- find mp4 videos \n",
    "- separate each video in individual frames\n",
    "- save each frame as jpg file in dirs only marked by the relevant class"
   ]
  },
  {
   "cell_type": "code",
   "execution_count": null,
   "metadata": {},
   "outputs": [],
   "source": [
    "import os\n",
    "import glob"
   ]
  },
  {
   "cell_type": "code",
   "execution_count": null,
   "metadata": {},
   "outputs": [],
   "source": [
    "sets=[\"train\",\"validation\"]\n",
    "classes=['first_Contact','narrowing','stable']\n",
    "\n",
    "out_base_path=\"/home/emmanouela/Documents/mosAIc.gr/data/images\"\n",
    "in_base_path=\"/home/emmanouela/Documents/mosAIc.gr/data/few_dataset\""
   ]
  },
  {
   "cell_type": "code",
   "execution_count": null,
   "metadata": {},
   "outputs": [],
   "source": [
    "\n",
    "for s in sets:\n",
    "    for c in classes:\n",
    "        in_path=os.path.join(in_base_path,s,c)\n",
    "        out_path=os.path.join(out_base_path,c)\n",
    "        if not os.path.exists(out_path):\n",
    "          os.mkdir(out_path)        \n",
    "        for video in glob.glob(in_path + \"/*.mp4\"):\n",
    "            out_name=out_path + '/' + os.path.splitext(os.path.basename(video))[0]+'_%02d.jpg'  #change %02d to match size of expected max integer\n",
    "            !ffmpeg -i $video $out_name\n"
   ]
  }
 ],
 "metadata": {
  "kernelspec": {
   "display_name": "Python 3",
   "language": "python",
   "name": "python3"
  },
  "language_info": {
   "codemirror_mode": {
    "name": "ipython",
    "version": 3
   },
   "file_extension": ".py",
   "mimetype": "text/x-python",
   "name": "python",
   "nbconvert_exporter": "python",
   "pygments_lexer": "ipython3",
   "version": "3.8.5"
  },
  "latex_envs": {
   "LaTeX_envs_menu_present": true,
   "autoclose": true,
   "autocomplete": true,
   "bibliofile": "biblio.bib",
   "cite_by": "apalike",
   "current_citInitial": 1,
   "eqLabelWithNumbers": true,
   "eqNumInitial": 1,
   "hotkeys": {
    "equation": "Ctrl-E",
    "itemize": "Ctrl-I"
   },
   "labels_anchors": false,
   "latex_user_defs": false,
   "report_style_numbering": false,
   "user_envs_cfg": false
  },
  "toc": {
   "base_numbering": 1,
   "nav_menu": {},
   "number_sections": true,
   "sideBar": false,
   "skip_h1_title": true,
   "title_cell": "Table of Contents",
   "title_sidebar": "Contents",
   "toc_cell": true,
   "toc_position": {},
   "toc_section_display": true,
   "toc_window_display": false
  }
 },
 "nbformat": 4,
 "nbformat_minor": 4
}
