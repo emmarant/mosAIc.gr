{
 "cells": [
  {
   "cell_type": "markdown",
   "metadata": {
    "toc": true
   },
   "source": [
    "<h1>Table of Contents<span class=\"tocSkip\"></span></h1>\n",
    "<div class=\"toc\"><ul class=\"toc-item\"></ul></div>"
   ]
  },
  {
   "cell_type": "code",
   "execution_count": 2,
   "metadata": {},
   "outputs": [],
   "source": [
    "import tensorflow \n",
    "from tensorflow import keras\n",
    "from tensorflow.keras import layers\n",
    "from tensorflow.keras import models\n",
    "from tensorflow.keras import optimizers\n",
    "from tensorflow.keras.preprocessing.image import ImageDataGenerator\n",
    "from keras.preprocessing import image\n",
    "import numpy as np"
   ]
  },
  {
   "cell_type": "code",
   "execution_count": 1,
   "metadata": {},
   "outputs": [],
   "source": [
    "PARAMS = {'lr': 1e-4,\n",
    "          'dropout': 0.0,\n",
    "          'batch_size': 1,\n",
    "          'n_epochs': 2,\n",
    "          'optimizer': 'RMSprop',\n",
    "          'loss': 'categorical_crossentropy',\n",
    "          'metrics': 'acc',\n",
    "          'activations': 'relu, softmax',\n",
    "          'image_input_shape' : (15,225,283,3)\n",
    "          }"
   ]
  },
  {
   "cell_type": "code",
   "execution_count": 4,
   "metadata": {},
   "outputs": [],
   "source": [
    "model = models.Sequential()\n",
    "model.add(layers.Conv3D(64, (3,3,3), padding='same',activation='relu',\n",
    "                        input_shape=(15,300,300,3)))\n",
    "model.add(layers.MaxPooling3D((2,2,2),strides=(1,2,2)))\n",
    "model.add(layers.Conv3D(128, (3, 3,3), padding='same',activation='relu'))\n",
    "model.add(layers.MaxPooling3D((2,2, 2),strides=(1,2,2)))\n",
    "model.add(layers.Conv3D(256, (3, 3,3), padding='same',activation='relu'))\n",
    "model.add(layers.MaxPooling3D((2,2,2),strides=(2,2,2)))\n",
    "model.add(layers.Conv3D(256, (3, 3,3), padding='same', activation='relu'))\n",
    "model.add(layers.MaxPooling3D((2,2,2),strides=(2,2,2)))\n",
    "model.add(layers.Conv3D(256, (3, 3,3), padding='same', activation='relu'))\n",
    "model.add(layers.MaxPooling3D((2,2,2),strides=(2,2,2)))\n",
    "model.add(layers.Flatten())\n",
    "model.add(layers.Dense(2048, activation='relu'))\n",
    "model.add(layers.Dense(256,activation='relu'))\n",
    "model.add(layers.Dense(3, activation='softmax'))"
   ]
  },
  {
   "cell_type": "code",
   "execution_count": 5,
   "metadata": {},
   "outputs": [],
   "source": [
    "model.compile(loss=PARAMS['loss'],\n",
    "              optimizer=optimizers.RMSprop(lr=PARAMS['lr']),\n",
    "              metrics=[PARAMS['metrics']])"
   ]
  },
  {
   "cell_type": "code",
   "execution_count": 6,
   "metadata": {},
   "outputs": [
    {
     "name": "stdout",
     "output_type": "stream",
     "text": [
      "Model: \"sequential\"\n",
      "_________________________________________________________________\n",
      "Layer (type)                 Output Shape              Param #   \n",
      "=================================================================\n",
      "conv3d (Conv3D)              (None, 15, 300, 300, 64)  5248      \n",
      "_________________________________________________________________\n",
      "max_pooling3d (MaxPooling3D) (None, 14, 150, 150, 64)  0         \n",
      "_________________________________________________________________\n",
      "conv3d_1 (Conv3D)            (None, 14, 150, 150, 128) 221312    \n",
      "_________________________________________________________________\n",
      "max_pooling3d_1 (MaxPooling3 (None, 13, 75, 75, 128)   0         \n",
      "_________________________________________________________________\n",
      "conv3d_2 (Conv3D)            (None, 13, 75, 75, 256)   884992    \n",
      "_________________________________________________________________\n",
      "max_pooling3d_2 (MaxPooling3 (None, 6, 37, 37, 256)    0         \n",
      "_________________________________________________________________\n",
      "conv3d_3 (Conv3D)            (None, 6, 37, 37, 256)    1769728   \n",
      "_________________________________________________________________\n",
      "max_pooling3d_3 (MaxPooling3 (None, 3, 18, 18, 256)    0         \n",
      "_________________________________________________________________\n",
      "conv3d_4 (Conv3D)            (None, 3, 18, 18, 256)    1769728   \n",
      "_________________________________________________________________\n",
      "max_pooling3d_4 (MaxPooling3 (None, 1, 9, 9, 256)      0         \n",
      "_________________________________________________________________\n",
      "flatten (Flatten)            (None, 20736)             0         \n",
      "_________________________________________________________________\n",
      "dense (Dense)                (None, 2048)              42469376  \n",
      "_________________________________________________________________\n",
      "dense_1 (Dense)              (None, 256)               524544    \n",
      "_________________________________________________________________\n",
      "dense_2 (Dense)              (None, 3)                 771       \n",
      "=================================================================\n",
      "Total params: 47,645,699\n",
      "Trainable params: 47,645,699\n",
      "Non-trainable params: 0\n",
      "_________________________________________________________________\n"
     ]
    }
   ],
   "source": [
    "model.summary()"
   ]
  },
  {
   "cell_type": "code",
   "execution_count": null,
   "metadata": {},
   "outputs": [],
   "source": []
  }
 ],
 "metadata": {
  "kernelspec": {
   "display_name": "Python 3",
   "language": "python",
   "name": "python3"
  },
  "language_info": {
   "codemirror_mode": {
    "name": "ipython",
    "version": 3
   },
   "file_extension": ".py",
   "mimetype": "text/x-python",
   "name": "python",
   "nbconvert_exporter": "python",
   "pygments_lexer": "ipython3",
   "version": "3.8.5"
  },
  "latex_envs": {
   "LaTeX_envs_menu_present": true,
   "autoclose": true,
   "autocomplete": true,
   "bibliofile": "biblio.bib",
   "cite_by": "apalike",
   "current_citInitial": 1,
   "eqLabelWithNumbers": true,
   "eqNumInitial": 1,
   "hotkeys": {
    "equation": "Ctrl-E",
    "itemize": "Ctrl-I"
   },
   "labels_anchors": false,
   "latex_user_defs": false,
   "report_style_numbering": false,
   "user_envs_cfg": false
  },
  "toc": {
   "base_numbering": 1,
   "nav_menu": {},
   "number_sections": true,
   "sideBar": false,
   "skip_h1_title": true,
   "title_cell": "Table of Contents",
   "title_sidebar": "Contents",
   "toc_cell": true,
   "toc_position": {},
   "toc_section_display": true,
   "toc_window_display": false
  }
 },
 "nbformat": 4,
 "nbformat_minor": 4
}
